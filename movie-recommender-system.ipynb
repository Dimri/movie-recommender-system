{
 "cells": [
  {
   "cell_type": "code",
   "execution_count": 26,
   "id": "2cff68ba-ede2-4d3d-ad67-6cd05b28e7d4",
   "metadata": {},
   "outputs": [],
   "source": [
    "import ast\n",
    "import spacy\n",
    "import numpy as np\n",
    "import pandas as pd"
   ]
  },
  {
   "cell_type": "code",
   "execution_count": 33,
   "id": "acdecfaf",
   "metadata": {},
   "outputs": [],
   "source": [
    "from sklearn.feature_extraction.text import CountVectorizer\n",
    "from sklearn.metrics.pairwise import cosine_similarity"
   ]
  },
  {
   "cell_type": "code",
   "execution_count": 2,
   "id": "7f0577f1-2a63-418f-b322-5014255bd72b",
   "metadata": {},
   "outputs": [],
   "source": [
    "movies = pd.read_csv('tmdb_5000_movies.csv')\n",
    "credits = pd.read_csv('tmdb_5000_credits.csv')"
   ]
  },
  {
   "cell_type": "code",
   "execution_count": 6,
   "id": "0a4701e0-e6ef-41c3-a314-f64f8115a1d9",
   "metadata": {},
   "outputs": [
    {
     "name": "stdout",
     "output_type": "stream",
     "text": [
      "Credits shape : (4803, 4), Movies shape : (4803, 20)\n",
      "MergedDF shape : (4809, 23)\n"
     ]
    }
   ],
   "source": [
    "# merging dataframe\n",
    "print(f'Credits shape : {credits.shape}, Movies shape : {movies.shape}')\n",
    "print(f'MergedDF shape : {movies.merge(credits, on=\"title\").shape}')\n",
    "movies = movies.merge(credits, on='title')"
   ]
  },
  {
   "cell_type": "code",
   "execution_count": 7,
   "id": "246933ad-16ba-4b3a-8817-c1022c958249",
   "metadata": {},
   "outputs": [],
   "source": [
    "# required columns\n",
    "required_col_list = ['movie_id', 'title', 'overview', 'genres', 'keywords', 'cast', 'crew']\n",
    "movies = movies[required_col_list]"
   ]
  },
  {
   "cell_type": "code",
   "execution_count": 8,
   "id": "d39068dc-6b0b-4b9c-b713-ac79becad1b0",
   "metadata": {},
   "outputs": [
    {
     "name": "stdout",
     "output_type": "stream",
     "text": [
      "<class 'pandas.core.frame.DataFrame'>\n",
      "RangeIndex: 4809 entries, 0 to 4808\n",
      "Data columns (total 7 columns):\n",
      " #   Column    Non-Null Count  Dtype \n",
      "---  ------    --------------  ----- \n",
      " 0   movie_id  4809 non-null   int64 \n",
      " 1   title     4809 non-null   object\n",
      " 2   overview  4806 non-null   object\n",
      " 3   genres    4809 non-null   object\n",
      " 4   keywords  4809 non-null   object\n",
      " 5   cast      4809 non-null   object\n",
      " 6   crew      4809 non-null   object\n",
      "dtypes: int64(1), object(6)\n",
      "memory usage: 263.1+ KB\n"
     ]
    }
   ],
   "source": [
    "movies.info()"
   ]
  },
  {
   "cell_type": "code",
   "execution_count": 9,
   "id": "d46eb483-76ea-4dc7-bc61-58be4231e007",
   "metadata": {},
   "outputs": [
    {
     "data": {
      "text/plain": [
       "movie_id    0\n",
       "title       0\n",
       "overview    3\n",
       "genres      0\n",
       "keywords    0\n",
       "cast        0\n",
       "crew        0\n",
       "dtype: int64"
      ]
     },
     "execution_count": 9,
     "metadata": {},
     "output_type": "execute_result"
    }
   ],
   "source": [
    "# missing data\n",
    "movies.isnull().sum()"
   ]
  },
  {
   "cell_type": "code",
   "execution_count": 10,
   "id": "bbb39a4b-1557-453c-9c98-a809e25928e9",
   "metadata": {},
   "outputs": [],
   "source": [
    "# drop the missing data\n",
    "movies.dropna(inplace=True)"
   ]
  },
  {
   "cell_type": "code",
   "execution_count": 11,
   "id": "8b5d5cdf-0ee8-4eb1-aa40-b1082cd10b13",
   "metadata": {},
   "outputs": [
    {
     "data": {
      "text/plain": [
       "0"
      ]
     },
     "execution_count": 11,
     "metadata": {},
     "output_type": "execute_result"
    }
   ],
   "source": [
    "# check for duplicated rows\n",
    "movies.duplicated().sum()"
   ]
  },
  {
   "cell_type": "code",
   "execution_count": 15,
   "id": "3d09806b-f7e8-47be-86ef-1d8969948723",
   "metadata": {},
   "outputs": [],
   "source": [
    "def convert(obj):\n",
    "    L = []\n",
    "    for dct in ast.literal_eval(obj):\n",
    "        L.append(dct[\"name\"])\n",
    "    return L\n",
    "\n",
    "\n",
    "def convert_cast(obj):\n",
    "    L = []\n",
    "    for dct in ast.literal_eval(obj)[:3]:\n",
    "        L.append(dct[\"name\"])\n",
    "    return L\n",
    "\n",
    "\n",
    "def fetch_director(obj):\n",
    "    L = []\n",
    "    for dct in ast.literal_eval(obj):\n",
    "        if dct[\"job\"] == \"Director\":\n",
    "            L.append(dct[\"name\"])\n",
    "    return L"
   ]
  },
  {
   "cell_type": "code",
   "execution_count": 16,
   "id": "e77a476c-f139-4ee8-aac4-f81e3f361008",
   "metadata": {},
   "outputs": [],
   "source": [
    "movies['genres list'] = movies.genres.apply(convert)"
   ]
  },
  {
   "cell_type": "code",
   "execution_count": 17,
   "id": "61af8d51-0c0b-47df-b8e7-68adedb70d0d",
   "metadata": {},
   "outputs": [],
   "source": [
    "movies['kwds list'] = movies.keywords.apply(convert)"
   ]
  },
  {
   "cell_type": "code",
   "execution_count": 18,
   "id": "f4436a25-5eb0-4c32-ae6b-fc0cab6a94c7",
   "metadata": {},
   "outputs": [],
   "source": [
    "movies['top cast'] = movies.cast.apply(convert_cast)"
   ]
  },
  {
   "cell_type": "code",
   "execution_count": 19,
   "id": "d15773e7-a276-431b-afa3-79c3721315b1",
   "metadata": {},
   "outputs": [],
   "source": [
    "movies['director'] = movies.crew.apply(fetch_director)"
   ]
  },
  {
   "cell_type": "code",
   "execution_count": 20,
   "id": "4368577d-a072-4a57-9791-ea459b0f4448",
   "metadata": {},
   "outputs": [],
   "source": [
    "movies['overview list'] = movies.overview.apply(lambda x : x.split())"
   ]
  },
  {
   "cell_type": "code",
   "execution_count": 21,
   "id": "d8b611d5-0d80-48fc-b53c-6c2e09d4c2d8",
   "metadata": {},
   "outputs": [],
   "source": [
    "movies['title list'] = movies.title.apply(lambda x : x.split())"
   ]
  },
  {
   "cell_type": "code",
   "execution_count": 22,
   "id": "640ee987-9b4a-4d0d-9e85-b2bf8eedb35e",
   "metadata": {},
   "outputs": [],
   "source": [
    "# remove space between words\n",
    "rem_space = lambda x : [i.replace(' ', '') for i in x]"
   ]
  },
  {
   "cell_type": "code",
   "execution_count": 23,
   "id": "81c1bcd7-d228-4da7-880b-ca5bfb94586a",
   "metadata": {},
   "outputs": [],
   "source": [
    "# remove spaces from these columns\n",
    "movies['top cast'] = movies['top cast'].apply(rem_space)\n",
    "movies.director = movies.director.apply(rem_space)\n",
    "movies['genres list'] = movies['genres list'].apply(rem_space)\n",
    "movies['kwds list'] = movies['kwds list'].apply(rem_space)"
   ]
  },
  {
   "cell_type": "code",
   "execution_count": 25,
   "id": "934c1aba-9df9-4224-8973-edc57dc0b134",
   "metadata": {},
   "outputs": [],
   "source": [
    "# stemming the words\n",
    "nlp = spacy.load('en_core_web_sm')"
   ]
  },
  {
   "cell_type": "code",
   "execution_count": 27,
   "id": "decf9b13-5649-4d6f-9fd5-e8ca317e55cf",
   "metadata": {},
   "outputs": [],
   "source": [
    "def stem(text):\n",
    "    y = []\n",
    "    text = ' '.join(text)\n",
    "    doc = nlp(text)\n",
    "    for token in doc:\n",
    "        y.append(token.lemma_)\n",
    "    \n",
    "    return y"
   ]
  },
  {
   "cell_type": "code",
   "execution_count": 28,
   "id": "be4be116-33df-4d3c-8fd5-057fedbfb5e5",
   "metadata": {},
   "outputs": [
    {
     "name": "stdout",
     "output_type": "stream",
     "text": [
      "Time : 118.82698154449463\n"
     ]
    }
   ],
   "source": [
    "import time\n",
    "start_time = time.time()\n",
    "movies['half tags'] = movies['overview list'] + movies['genres list'] + movies['kwds list']\n",
    "movies['half tags'] = movies['half tags'].apply(stem)\n",
    "end_time = time.time()\n",
    "print(f'Time : {end_time - start_time}')"
   ]
  },
  {
   "cell_type": "code",
   "execution_count": 29,
   "id": "ba418fed-c2e7-4b47-8ae0-711a7f1f396b",
   "metadata": {},
   "outputs": [],
   "source": [
    "# make new column 'tags'\n",
    "movies['tags'] = movies['title list'] + movies['top cast'] + movies.director + movies['half tags']"
   ]
  },
  {
   "cell_type": "code",
   "execution_count": 30,
   "id": "cef96794-240e-48b5-94eb-4f752d3d2dbf",
   "metadata": {},
   "outputs": [],
   "source": [
    "df = movies.loc[:, ['movie_id', 'title', 'tags']]"
   ]
  },
  {
   "cell_type": "code",
   "execution_count": 31,
   "id": "360912a7-6383-47f7-a90d-3496fdc72d93",
   "metadata": {},
   "outputs": [],
   "source": [
    "# make lower case strings from list\n",
    "df['tags'] = df['tags'].apply(lambda x : ' '.join(x).lower())"
   ]
  },
  {
   "cell_type": "code",
   "execution_count": 34,
   "id": "0027e44f",
   "metadata": {},
   "outputs": [
    {
     "data": {
      "text/html": [
       "<div>\n",
       "<style scoped>\n",
       "    .dataframe tbody tr th:only-of-type {\n",
       "        vertical-align: middle;\n",
       "    }\n",
       "\n",
       "    .dataframe tbody tr th {\n",
       "        vertical-align: top;\n",
       "    }\n",
       "\n",
       "    .dataframe thead th {\n",
       "        text-align: right;\n",
       "    }\n",
       "</style>\n",
       "<table border=\"1\" class=\"dataframe\">\n",
       "  <thead>\n",
       "    <tr style=\"text-align: right;\">\n",
       "      <th></th>\n",
       "      <th>movie_id</th>\n",
       "      <th>title</th>\n",
       "      <th>tags</th>\n",
       "    </tr>\n",
       "  </thead>\n",
       "  <tbody>\n",
       "    <tr>\n",
       "      <th>0</th>\n",
       "      <td>19995</td>\n",
       "      <td>Avatar</td>\n",
       "      <td>avatar samworthington zoesaldana sigourneyweav...</td>\n",
       "    </tr>\n",
       "    <tr>\n",
       "      <th>1</th>\n",
       "      <td>285</td>\n",
       "      <td>Pirates of the Caribbean: At World's End</td>\n",
       "      <td>pirates of the caribbean: at world's end johnn...</td>\n",
       "    </tr>\n",
       "    <tr>\n",
       "      <th>2</th>\n",
       "      <td>206647</td>\n",
       "      <td>Spectre</td>\n",
       "      <td>spectre danielcraig christophwaltz léaseydoux ...</td>\n",
       "    </tr>\n",
       "    <tr>\n",
       "      <th>3</th>\n",
       "      <td>49026</td>\n",
       "      <td>The Dark Knight Rises</td>\n",
       "      <td>the dark knight rises christianbale michaelcai...</td>\n",
       "    </tr>\n",
       "    <tr>\n",
       "      <th>4</th>\n",
       "      <td>49529</td>\n",
       "      <td>John Carter</td>\n",
       "      <td>john carter taylorkitsch lynncollins samantham...</td>\n",
       "    </tr>\n",
       "  </tbody>\n",
       "</table>\n",
       "</div>"
      ],
      "text/plain": [
       "   movie_id                                     title   \n",
       "0     19995                                    Avatar  \\\n",
       "1       285  Pirates of the Caribbean: At World's End   \n",
       "2    206647                                   Spectre   \n",
       "3     49026                     The Dark Knight Rises   \n",
       "4     49529                               John Carter   \n",
       "\n",
       "                                                tags  \n",
       "0  avatar samworthington zoesaldana sigourneyweav...  \n",
       "1  pirates of the caribbean: at world's end johnn...  \n",
       "2  spectre danielcraig christophwaltz léaseydoux ...  \n",
       "3  the dark knight rises christianbale michaelcai...  \n",
       "4  john carter taylorkitsch lynncollins samantham...  "
      ]
     },
     "execution_count": 34,
     "metadata": {},
     "output_type": "execute_result"
    }
   ],
   "source": [
    "df.head()"
   ]
  },
  {
   "cell_type": "code",
   "execution_count": 35,
   "id": "070e6059",
   "metadata": {},
   "outputs": [],
   "source": [
    "cv = CountVectorizer(max_features=5000, stop_words='english')\n",
    "vectors = cv.fit_transform(df.tags).toarray()\n",
    "sim_mat = cosine_similarity(vectors)"
   ]
  },
  {
   "cell_type": "code",
   "execution_count": 44,
   "id": "101aaede-5558-4e80-a15f-5848e12b5d25",
   "metadata": {},
   "outputs": [],
   "source": [
    "def recommend(movie):\n",
    "    idx = df[df['title'] == movie].index[0]\n",
    "    dist = sim_mat[idx]\n",
    "    sorted_idx = np.argsort(dist) # asc order\n",
    "    rec_idx = sorted_idx[-6:] # last 5 indices\n",
    "    for i in rec_idx[::-1]: # reverse to get the top 5\n",
    "        print(df.title.iloc[i])"
   ]
  },
  {
   "cell_type": "code",
   "execution_count": 45,
   "id": "319e829b-0137-4b30-a543-fa2ee54275b1",
   "metadata": {},
   "outputs": [
    {
     "name": "stdout",
     "output_type": "stream",
     "text": [
      "Harry Potter and the Philosopher's Stone\n",
      "Harry Potter and the Chamber of Secrets\n",
      "Harry Potter and the Goblet of Fire\n",
      "Harry Potter and the Prisoner of Azkaban\n",
      "Harry Potter and the Order of the Phoenix\n",
      "Harry Potter and the Half-Blood Prince\n"
     ]
    }
   ],
   "source": [
    "recommend(\"Harry Potter and the Philosopher's Stone\")"
   ]
  },
  {
   "cell_type": "code",
   "execution_count": 46,
   "id": "b9de5824-ce15-427e-9e29-6adbddd64e63",
   "metadata": {},
   "outputs": [
    {
     "name": "stdout",
     "output_type": "stream",
     "text": [
      "Inception\n",
      "Minority Report\n",
      "Duplex\n",
      "The Helix... Loaded\n",
      "Transformers: Revenge of the Fallen\n",
      "Looper\n"
     ]
    }
   ],
   "source": [
    "recommend('Inception')"
   ]
  },
  {
   "cell_type": "code",
   "execution_count": 39,
   "id": "0e8ba9aa",
   "metadata": {},
   "outputs": [],
   "source": [
    "# import pickle\n",
    "# pickle.dump(sim_mat, open('sim_mat_spacy.pkl', 'wb'))"
   ]
  }
 ],
 "metadata": {
  "kernelspec": {
   "display_name": "Python 3.9.12 ('base')",
   "language": "python",
   "name": "python3"
  },
  "language_info": {
   "codemirror_mode": {
    "name": "ipython",
    "version": 3
   },
   "file_extension": ".py",
   "mimetype": "text/x-python",
   "name": "python",
   "nbconvert_exporter": "python",
   "pygments_lexer": "ipython3",
   "version": "3.10.5"
  },
  "vscode": {
   "interpreter": {
    "hash": "1c96efd641c8edc4becd0add2d213e7ec84c37270ea5e51cc70d926f1fea797b"
   }
  }
 },
 "nbformat": 4,
 "nbformat_minor": 5
}
